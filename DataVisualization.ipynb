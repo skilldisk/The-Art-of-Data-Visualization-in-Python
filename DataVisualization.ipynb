{
 "cells": [
  {
   "cell_type": "markdown",
   "id": "ebe7a046",
   "metadata": {
    "slideshow": {
     "slide_type": "slide"
    }
   },
   "source": [
    "# The Art of Data Visualization in Python – Matplotlib"
   ]
  },
  {
   "cell_type": "markdown",
   "id": "9d433bad",
   "metadata": {
    "slideshow": {
     "slide_type": "fragment"
    }
   },
   "source": [
    "## May 18, 2025 "
   ]
  },
  {
   "cell_type": "markdown",
   "id": "a64a0b15",
   "metadata": {
    "slideshow": {
     "slide_type": "slide"
    }
   },
   "source": [
    "![topic](./images/art_of_data_visualization.png)"
   ]
  },
  {
   "cell_type": "markdown",
   "id": "a93ff092",
   "metadata": {
    "slideshow": {
     "slide_type": "slide"
    }
   },
   "source": [
    "# Introduction"
   ]
  },
  {
   "cell_type": "markdown",
   "id": "c1c6114e",
   "metadata": {
    "slideshow": {
     "slide_type": "subslide"
    }
   },
   "source": [
    "<center>\n",
    "<img src=\"https://paw.princeton.edu/sites/default/files/styles/303_404/public/images/content/90-Hunter-John-D.jpg\" style=\"height:50vh\" />\n",
    "\n",
    "</center>\n",
    "\n",
    "## John Hunter"
   ]
  },
  {
   "cell_type": "markdown",
   "id": "8cb14567",
   "metadata": {
    "slideshow": {
     "slide_type": "slide"
    }
   },
   "source": [
    "## Time Line"
   ]
  },
  {
   "cell_type": "markdown",
   "id": "37490438",
   "metadata": {
    "slideshow": {
     "slide_type": "fragment"
    }
   },
   "source": [
    "- He began developing matplotlib around **2003**"
   ]
  },
  {
   "cell_type": "markdown",
   "id": "d5a338dc",
   "metadata": {
    "slideshow": {
     "slide_type": "fragment"
    }
   },
   "source": [
    "\n",
    "- From 2012 Matplotlib is a Sponsored Project of NumFOCUS\n",
    "\n",
    "<center>\n",
    "<img src=\"https://matplotlib.org/_static/numfocus_badge.png\" style=\"height:20vh\" />\n",
    "</center>\n"
   ]
  },
  {
   "cell_type": "markdown",
   "id": "af139273",
   "metadata": {
    "slideshow": {
     "slide_type": "subslide"
    }
   },
   "source": [
    "- It was originally conceived to visualize **electrocorticography (ECoG)** data of epilepsy patients"
   ]
  },
  {
   "cell_type": "markdown",
   "id": "3be70b1b",
   "metadata": {
    "slideshow": {
     "slide_type": "fragment"
    }
   },
   "source": [
    "- A core component of the scientific Python stack"
   ]
  },
  {
   "cell_type": "markdown",
   "id": "2efc523e",
   "metadata": {
    "slideshow": {
     "slide_type": "subslide"
    }
   },
   "source": [
    "- It was used for data visualization during landing of the **Phoenix spacecraft** in 2008"
   ]
  },
  {
   "cell_type": "markdown",
   "id": "1800d6ea",
   "metadata": {
    "slideshow": {
     "slide_type": "fragment"
    }
   },
   "source": [
    "<center>\n",
    "<img src=\"https://upload.wikimedia.org/wikipedia/commons/thumb/6/6a/Phoenix_landing.jpg/300px-Phoenix_landing.jpg\" style=\"height:50vh\" />\n",
    "</center>\n"
   ]
  },
  {
   "cell_type": "markdown",
   "id": "8d4e0bd4",
   "metadata": {
    "slideshow": {
     "slide_type": "slide"
    }
   },
   "source": [
    "# Installation"
   ]
  },
  {
   "cell_type": "markdown",
   "id": "856e3e88",
   "metadata": {
    "slideshow": {
     "slide_type": "subslide"
    }
   },
   "source": [
    "### Using pip\n",
    "\n",
    "```cmd\n",
    "  pip install matplotlib\n",
    "```"
   ]
  },
  {
   "cell_type": "markdown",
   "id": "2015624d",
   "metadata": {
    "slideshow": {
     "slide_type": "fragment"
    }
   },
   "source": [
    "### Conda packages\n",
    "\n",
    "```python\n",
    "  conda install matplotlib\n",
    "    \n",
    "    or\n",
    "  \n",
    "  conda install -c conda-forge matplotlib\n",
    "```"
   ]
  },
  {
   "cell_type": "markdown",
   "id": "f7ca308e",
   "metadata": {
    "slideshow": {
     "slide_type": "subslide"
    }
   },
   "source": [
    "### Matplotlib is part of major Python distributions:\n",
    "\n",
    "* Anaconda\n",
    "* ActiveState ActivePython\n",
    "* WinPython\n",
    "etc"
   ]
  },
  {
   "cell_type": "markdown",
   "id": "01b77b7c",
   "metadata": {
    "slideshow": {
     "slide_type": "fragment"
    }
   },
   "source": [
    "### Install from Github repository.\n",
    "\n",
    "[Matplotlib : Click here](https://github.com/matplotlib/matplotlib)"
   ]
  },
  {
   "cell_type": "markdown",
   "id": "c23bd5a6",
   "metadata": {
    "slideshow": {
     "slide_type": "subslide"
    }
   },
   "source": [
    "# Downloading Snippets or Execute in online."
   ]
  },
  {
   "cell_type": "markdown",
   "id": "90b01b0c",
   "metadata": {
    "slideshow": {
     "slide_type": "fragment"
    }
   },
   "source": [
    "* To Download the Snippets.\n",
    "  * [GitHub Repository](https://github.com/skilldisk/The-Art-of-Data-Visualization-in-Python.git)\n",
    "  * [Webinar Page](https://www.skilldisk.com/webinar/the-art-of-data-visualization-in-python-matplotlib/)"
   ]
  },
  {
   "cell_type": "markdown",
   "id": "92bd6dd3",
   "metadata": {
    "slideshow": {
     "slide_type": "fragment"
    }
   },
   "source": [
    "* To Execute directly from on online\n",
    "[![Binder](https://mybinder.org/badge_logo.svg)](https://mybinder.org/v2/git/https%3A%2F%2Fgithub.com%2Fskilldisk%2FThe-Art-of-Data-Visualization-in-Python%2F/main?urlpath=%2Fdoc%2Ftree%2FDataVisualization.ipynb)"
   ]
  },
  {
   "cell_type": "markdown",
   "id": "9e2b2283",
   "metadata": {
    "slideshow": {
     "slide_type": "slide"
    }
   },
   "source": [
    "# Plotting"
   ]
  },
  {
   "cell_type": "markdown",
   "id": "33cf0583",
   "metadata": {
    "slideshow": {
     "slide_type": "subslide"
    }
   },
   "source": [
    "## Line Plot"
   ]
  },
  {
   "cell_type": "markdown",
   "id": "26900a36",
   "metadata": {
    "slideshow": {
     "slide_type": "subslide"
    }
   },
   "source": [
    "### Import pyplot Module from Matplotlib"
   ]
  },
  {
   "cell_type": "code",
   "execution_count": null,
   "id": "11dd0138",
   "metadata": {
    "slideshow": {
     "slide_type": "fragment"
    }
   },
   "outputs": [],
   "source": [
    "from matplotlib import pyplot as plt"
   ]
  },
  {
   "cell_type": "markdown",
   "id": "2ae1bf61",
   "metadata": {
    "slideshow": {
     "slide_type": "subslide"
    }
   },
   "source": [
    "### Create y value list."
   ]
  },
  {
   "cell_type": "code",
   "execution_count": null,
   "id": "1bc83467",
   "metadata": {
    "slideshow": {
     "slide_type": "fragment"
    }
   },
   "outputs": [],
   "source": [
    "y = [5, 0.5, 6, 10]"
   ]
  },
  {
   "cell_type": "markdown",
   "id": "b79c404b",
   "metadata": {
    "slideshow": {
     "slide_type": "subslide"
    }
   },
   "source": [
    "### Pass the y value to plot function"
   ]
  },
  {
   "cell_type": "code",
   "execution_count": null,
   "id": "ee079693",
   "metadata": {
    "slideshow": {
     "slide_type": "fragment"
    }
   },
   "outputs": [],
   "source": [
    "plt.plot(y)\n",
    "plt.show()"
   ]
  },
  {
   "cell_type": "markdown",
   "id": "27bff840",
   "metadata": {
    "slideshow": {
     "slide_type": "subslide"
    }
   },
   "source": [
    "### Adding axis label and title"
   ]
  },
  {
   "cell_type": "code",
   "execution_count": null,
   "id": "f6988980",
   "metadata": {
    "slideshow": {
     "slide_type": "fragment"
    }
   },
   "outputs": [],
   "source": [
    "# axis\n",
    "plt.xlabel(\"X axis Label\")\n",
    "plt.ylabel(\"Y axis Label\")\n",
    "\n",
    "# Title\n",
    "plt.title(\"Line Graph\")\n",
    "\n",
    "plt.plot(y)\n",
    "plt.show()"
   ]
  },
  {
   "cell_type": "markdown",
   "id": "d695722b",
   "metadata": {
    "slideshow": {
     "slide_type": "subslide"
    }
   },
   "source": [
    "### Adding Legends to the graph"
   ]
  },
  {
   "cell_type": "markdown",
   "id": "36e811be",
   "metadata": {
    "slideshow": {
     "slide_type": "fragment"
    }
   },
   "source": [
    "```python\n",
    "plt.legend() #Make sure label is passed inside the plot function\n",
    "```"
   ]
  },
  {
   "cell_type": "code",
   "execution_count": null,
   "id": "48bc993c",
   "metadata": {
    "slideshow": {
     "slide_type": "subslide"
    }
   },
   "outputs": [],
   "source": [
    "# axis\n",
    "plt.xlabel(\"X axis Label\")\n",
    "plt.ylabel(\"Y axis Label\")\n",
    "\n",
    "# Title\n",
    "plt.title(\"Line Graph\")\n",
    "\n",
    "# Plot the graph\n",
    "plt.plot(y, label=\"testing\")\n",
    "\n",
    "# Adding Legends\n",
    "plt.legend()\n",
    "\n",
    "plt.show()"
   ]
  },
  {
   "cell_type": "markdown",
   "id": "2936c8b3",
   "metadata": {
    "slideshow": {
     "slide_type": "subslide"
    }
   },
   "source": [
    "### Adding grid line"
   ]
  },
  {
   "cell_type": "markdown",
   "id": "0296a80f",
   "metadata": {
    "slideshow": {
     "slide_type": "fragment"
    }
   },
   "source": [
    "```python\n",
    "plt.grid()\n",
    "```"
   ]
  },
  {
   "cell_type": "code",
   "execution_count": null,
   "id": "a791bc46",
   "metadata": {
    "slideshow": {
     "slide_type": "subslide"
    }
   },
   "outputs": [],
   "source": [
    "# axis\n",
    "plt.xlabel(\"X axis Label\")\n",
    "plt.ylabel(\"Y axis Label\")\n",
    "\n",
    "# Title\n",
    "plt.title(\"Line Graph\")\n",
    "\n",
    "# Plot the graph\n",
    "plt.plot(y, label=\"account\")\n",
    "\n",
    "# Adding Legends\n",
    "plt.legend()\n",
    "\n",
    "\n",
    "# Adding grid\n",
    "plt.grid()\n",
    "\n",
    "plt.show()"
   ]
  },
  {
   "cell_type": "markdown",
   "id": "0ef60712",
   "metadata": {
    "slideshow": {
     "slide_type": "subslide"
    }
   },
   "source": [
    "### X data and Y data"
   ]
  },
  {
   "cell_type": "code",
   "execution_count": null,
   "id": "c5aa41fc",
   "metadata": {
    "slideshow": {
     "slide_type": "fragment"
    }
   },
   "outputs": [],
   "source": [
    "x = [0, 0.5, 2, 10]\n",
    "y = [1, 0.5, 6, 10]"
   ]
  },
  {
   "cell_type": "code",
   "execution_count": null,
   "id": "742793d3",
   "metadata": {
    "slideshow": {
     "slide_type": "subslide"
    }
   },
   "outputs": [],
   "source": [
    "plt.plot(x,y)\n",
    "plt.show()"
   ]
  },
  {
   "cell_type": "markdown",
   "id": "c7806f0f",
   "metadata": {
    "slideshow": {
     "slide_type": "subslide"
    }
   },
   "source": [
    "## Bar Chart"
   ]
  },
  {
   "cell_type": "code",
   "execution_count": null,
   "id": "2a1af400",
   "metadata": {
    "slideshow": {
     "slide_type": "fragment"
    }
   },
   "outputs": [],
   "source": [
    "# Data to plot on the graph\n",
    "fruits = ['Apple', 'Mango', 'Grapes', 'Orange']\n",
    "kg = [5, 6, 2, 4]"
   ]
  },
  {
   "cell_type": "code",
   "execution_count": null,
   "id": "0de024fb",
   "metadata": {
    "slideshow": {
     "slide_type": "subslide"
    }
   },
   "outputs": [],
   "source": [
    "# Draw Bar Chart\n",
    "plt.bar(fruits,kg)\n",
    "plt.show()"
   ]
  },
  {
   "cell_type": "code",
   "execution_count": null,
   "id": "637427fb",
   "metadata": {
    "slideshow": {
     "slide_type": "subslide"
    }
   },
   "outputs": [],
   "source": [
    "# Label x and y axis\n",
    "plt.xlabel(\" Fruits \")\n",
    "plt.ylabel(\" No of Kg \")\n",
    "\n",
    "# Title\n",
    "plt.title(\"Fruits Purchased\") \n",
    "\n",
    "plt.bar(fruits,kg)\n",
    "plt.show()"
   ]
  },
  {
   "cell_type": "markdown",
   "id": "04034d02",
   "metadata": {
    "slideshow": {
     "slide_type": "subslide"
    }
   },
   "source": [
    "## Pie Chart"
   ]
  },
  {
   "cell_type": "code",
   "execution_count": null,
   "id": "6f7049f2",
   "metadata": {
    "slideshow": {
     "slide_type": "fragment"
    }
   },
   "outputs": [],
   "source": [
    "# Income of a student\n",
    "labels = ['freelancer', 'Social Media', 'Others']\n",
    "\n",
    "# Data to plot the value\n",
    "income = [5000, 3000, 2000]"
   ]
  },
  {
   "cell_type": "code",
   "execution_count": null,
   "id": "f9057ab1",
   "metadata": {
    "slideshow": {
     "slide_type": "subslide"
    }
   },
   "outputs": [],
   "source": [
    "# Plot the Pie Chart\n",
    "# plt.pie(income)\n",
    "# plt.pie(income, labels=labels)\n",
    "plt.pie(income, labels=labels, autopct='%1.1f%%')\n",
    "\n",
    "plt.show()"
   ]
  },
  {
   "cell_type": "code",
   "execution_count": null,
   "id": "c97e4bba",
   "metadata": {
    "slideshow": {
     "slide_type": "subslide"
    }
   },
   "outputs": [],
   "source": [
    "# explode\n",
    "explode = [0, 0.1, 0.01]\n",
    "\n",
    "# Plot the Pie Chart\n",
    "plt.pie(income,  \n",
    "        labels=labels, \n",
    "        autopct='%1.1f%%',\n",
    "        explode = explode )\n",
    "\n",
    "plt.show()"
   ]
  },
  {
   "cell_type": "markdown",
   "id": "9558c655",
   "metadata": {
    "slideshow": {
     "slide_type": "subslide"
    }
   },
   "source": [
    "## Scatter Plot"
   ]
  },
  {
   "cell_type": "code",
   "execution_count": null,
   "id": "77080884",
   "metadata": {
    "slideshow": {
     "slide_type": "subslide"
    }
   },
   "outputs": [],
   "source": [
    "x = [1, 5, 6, 8, 6, 10]\n",
    "y = [2, 5, 6, 6, 10, 11]\n",
    "\n",
    "plt.scatter(x,y)\n",
    "plt.show()"
   ]
  },
  {
   "cell_type": "code",
   "execution_count": null,
   "id": "ba1ae0fe",
   "metadata": {
    "slideshow": {
     "slide_type": "subslide"
    }
   },
   "outputs": [],
   "source": [
    "from random import randint\n",
    "\n",
    "x = [randint(0,1000) for i in range(100)]\n",
    "y = [randint(0,1000) for i in range(100)]\n",
    "\n",
    "plt.scatter(x,y)\n",
    "plt.show()"
   ]
  },
  {
   "cell_type": "markdown",
   "id": "c6aa965d",
   "metadata": {
    "slideshow": {
     "slide_type": "slide"
    }
   },
   "source": [
    "# How to remember so many things\n",
    "\n",
    "<h2 style=\"font-size:15rem;color:#ff0000!important\">?</h2>"
   ]
  },
  {
   "cell_type": "markdown",
   "id": "10b93c1c",
   "metadata": {
    "slideshow": {
     "slide_type": "subslide"
    }
   },
   "source": [
    "- Use <span style=\"color:#ffaa00\">Shift + Tab</span> button inside the ( )"
   ]
  },
  {
   "cell_type": "markdown",
   "id": "b404a90a",
   "metadata": {
    "slideshow": {
     "slide_type": "fragment"
    }
   },
   "source": [
    "- Use <span style=\"color:#ffaa00\">Shift</span>  to show auto complete"
   ]
  },
  {
   "cell_type": "markdown",
   "id": "951acaeb",
   "metadata": {
    "slideshow": {
     "slide_type": "fragment"
    }
   },
   "source": [
    "- Using <span style=\"color:#ffaa00\">dir</span> method"
   ]
  },
  {
   "cell_type": "code",
   "execution_count": null,
   "id": "9eaec240",
   "metadata": {
    "slideshow": {
     "slide_type": "subslide"
    }
   },
   "outputs": [],
   "source": [
    "print(dir(plt))"
   ]
  },
  {
   "cell_type": "markdown",
   "id": "1c290624",
   "metadata": {
    "slideshow": {
     "slide_type": "slide"
    }
   },
   "source": [
    "# Multiple plots in one figure"
   ]
  },
  {
   "cell_type": "markdown",
   "id": "520b9b34",
   "metadata": {
    "slideshow": {
     "slide_type": "subslide"
    }
   },
   "source": [
    "### using plt.subplots()"
   ]
  },
  {
   "cell_type": "code",
   "execution_count": null,
   "id": "c0aa6e8f",
   "metadata": {
    "slideshow": {
     "slide_type": "fragment"
    }
   },
   "outputs": [],
   "source": [
    "fig, ax = plt.subplots()"
   ]
  },
  {
   "cell_type": "code",
   "execution_count": null,
   "id": "b62353ad",
   "metadata": {
    "slideshow": {
     "slide_type": "subslide"
    }
   },
   "outputs": [],
   "source": [
    "fig, ax = plt.subplots(nrows=2, ncols=2)\n",
    "plt.tight_layout()\n",
    "\n",
    "print(ax)"
   ]
  },
  {
   "cell_type": "code",
   "execution_count": null,
   "id": "6f2f4720",
   "metadata": {
    "slideshow": {
     "slide_type": "subslide"
    }
   },
   "outputs": [],
   "source": [
    "fig, ax = plt.subplots(nrows=2, ncols=2)\n",
    "\n",
    "ax[0,0].plot([1,2,3,8,16])\n",
    "ax[0,0].set_title(\"Line Graph\")\n",
    "ax[0,0].set_xlabel(\"x label 0\")\n",
    "ax[0,0].set_ylabel(\"y label 0\")\n",
    "\n",
    "\n",
    "ax[1,1].bar([1,2,3,4],[6,2,20,54])\n",
    "ax[1,1].set_title(\"Bar Chart\")\n",
    "ax[1,1].set_xlabel(\"x label 1\")\n",
    "ax[1,1].set_ylabel(\"y label 1\")\n",
    "\n",
    "plt.tight_layout()\n",
    "plt.show()"
   ]
  },
  {
   "cell_type": "code",
   "execution_count": null,
   "id": "812324ef",
   "metadata": {
    "slideshow": {
     "slide_type": "subslide"
    }
   },
   "outputs": [],
   "source": [
    "fig, ax = plt.subplots(nrows=1, ncols=2, sharey='row')\n",
    "\n",
    "ax[0].plot([1,2,3,8,16])\n",
    "ax[0].set_title(\"Line Graph\")\n",
    "ax[0].set_xlabel(\"x label 0\")\n",
    "ax[0].set_ylabel(\"Common y label\")\n",
    "\n",
    "ax[1].bar([1,2,3,4],[6,2,20,54])\n",
    "ax[1].set_title(\"Bar Chart\")\n",
    "ax[1].set_xlabel(\"x label 1\")\n",
    "\n",
    "plt.tight_layout()\n",
    "plt.show()"
   ]
  },
  {
   "cell_type": "markdown",
   "id": "b44809c7",
   "metadata": {
    "slideshow": {
     "slide_type": "slide"
    }
   },
   "source": [
    "# Styling the plots"
   ]
  },
  {
   "cell_type": "markdown",
   "id": "4e7deb68",
   "metadata": {
    "slideshow": {
     "slide_type": "subslide"
    }
   },
   "source": [
    "### List out styles available"
   ]
  },
  {
   "cell_type": "code",
   "execution_count": null,
   "id": "0b5b3f59",
   "metadata": {
    "slideshow": {
     "slide_type": "subslide"
    }
   },
   "outputs": [],
   "source": [
    "plt.style.available"
   ]
  },
  {
   "cell_type": "code",
   "execution_count": null,
   "id": "66c9679f",
   "metadata": {
    "slideshow": {
     "slide_type": "subslide"
    }
   },
   "outputs": [],
   "source": [
    "plt.style.use('fivethirtyeight')\n",
    "\n",
    "plt.plot([1,5,3,9,12])\n",
    "plt.title(\"FiveThirtyEight Style Plot\")\n",
    "plt.xlabel('x label')\n",
    "plt.ylabel('y label')\n",
    "\n",
    "plt.tight_layout()\n",
    "plt.show()"
   ]
  },
  {
   "cell_type": "code",
   "execution_count": null,
   "id": "49f8252c",
   "metadata": {
    "slideshow": {
     "slide_type": "subslide"
    }
   },
   "outputs": [],
   "source": [
    "style_list = plt.style.available\n",
    "\n",
    "for i in range(len(style_list)):\n",
    "    plt.style.use(style_list[i]) \n",
    "    fig, ax = plt.subplots()\n",
    "    ax.plot([1,2,3,4])\n",
    "    ax.set_title(style_list[i]+' Style')\n",
    "    plt.tight_layout()\n",
    "    plt.show()\n",
    "    print('---'*20)"
   ]
  },
  {
   "cell_type": "code",
   "execution_count": null,
   "id": "cc560f82",
   "metadata": {
    "slideshow": {
     "slide_type": "subslide"
    }
   },
   "outputs": [],
   "source": [
    "plt.style.use('default')\n",
    "\n",
    "x = [0, 1, 2, 3, 4]\n",
    "y = [1.2, 5, 3, 8, 10]\n",
    "\n",
    "plt.plot(x, y, color='red', linestyle='--', marker='d')\n",
    "# plt.plot(x,y, 'rd--')\n",
    "\n",
    "plt.show()"
   ]
  },
  {
   "cell_type": "code",
   "execution_count": null,
   "id": "cda0a70a",
   "metadata": {
    "slideshow": {
     "slide_type": "subslide"
    }
   },
   "outputs": [],
   "source": [
    "fig, ax = plt.subplots()\n",
    "\n",
    "ax.plot(x,y, 'rd-.', mfc='green', mec='#0000ff', mew=2)\n",
    "\n",
    "ax.set_title('Styling Plot', color='#ff0000', loc='center' )\n",
    "\n",
    "ax.spines['bottom'].set_color('#ff0000')\n",
    "# ax.spines['top'].set_color('#dddddd') \n",
    "# ax.spines['right'].set_color('red')\n",
    "# ax.spines['left'].set_color('green')\n",
    "\n",
    "plt.show()"
   ]
  },
  {
   "cell_type": "markdown",
   "id": "fdef9c68",
   "metadata": {
    "slideshow": {
     "slide_type": "subslide"
    }
   },
   "source": [
    "## List of Markers"
   ]
  },
  {
   "cell_type": "code",
   "execution_count": null,
   "id": "861b069e",
   "metadata": {
    "slideshow": {
     "slide_type": "subslide"
    }
   },
   "outputs": [],
   "source": [
    "from matplotlib.lines import Line2D\n",
    "\n",
    "Line2D.markers"
   ]
  },
  {
   "cell_type": "markdown",
   "id": "d1c39c6e",
   "metadata": {
    "slideshow": {
     "slide_type": "slide"
    }
   },
   "source": [
    "# GIF image"
   ]
  },
  {
   "cell_type": "code",
   "execution_count": null,
   "id": "e75ec358",
   "metadata": {
    "slideshow": {
     "slide_type": "subslide"
    }
   },
   "outputs": [],
   "source": [
    "from matplotlib import pyplot as plt\n",
    "import gif\n",
    "\n",
    "plt.style.use('default')\n",
    "\n",
    "x = [1,2,3,4,5]\n",
    "y = [2,0.5,3,10,16]\n",
    "\n",
    "\n",
    "@gif.frame\n",
    "def plot_img(i):\n",
    "\n",
    "    \n",
    "    if i==1:\n",
    "        plt.scatter(x,y, color='red')\n",
    "        plt.title('Mark Points')\n",
    "    if i==2:\n",
    "        plt.plot(x, y, 'ro--')\n",
    "        plt.title('Connect the points')\n",
    "    if i==3:\n",
    "        plt.plot(x, y, 'ro--')\n",
    "        plt.title('Indicate x and y label')\n",
    "        plt.xlabel('x label')\n",
    "        plt.ylabel('y label')\n",
    "    if i==4:\n",
    "        plt.plot(x, y, 'ro--', label='line plot')\n",
    "        plt.title('Add the legend')\n",
    "        plt.xlabel('x label')\n",
    "        plt.ylabel('y label')\n",
    "        plt.legend()\n",
    "    if (i==5) or (i==6):\n",
    "        plt.plot(x, y, 'ro--', label='line plot')\n",
    "        plt.title('Add grid to the plot')\n",
    "        plt.xlabel('x label')\n",
    "        plt.ylabel('y label')\n",
    "        plt.legend()\n",
    "        plt.grid()\n",
    "\n",
    "\n",
    "frames = []\n",
    "for i in range(7):\n",
    "    frame = plot_img(i)\n",
    "    frames.append(frame)\n",
    "    \n",
    "gif.save(frames, 'gif_img3.gif', duration=1000)"
   ]
  },
  {
   "cell_type": "markdown",
   "id": "3593116b",
   "metadata": {
    "slideshow": {
     "slide_type": "subslide"
    }
   },
   "source": [
    "![gif image](gif_img3.gif)"
   ]
  },
  {
   "cell_type": "code",
   "execution_count": null,
   "id": "40f8d1ef",
   "metadata": {
    "slideshow": {
     "slide_type": "subslide"
    }
   },
   "outputs": [],
   "source": [
    "from matplotlib import pyplot as plt\n",
    "import matplotlib as mpl\n",
    "import gif\n",
    "\n",
    "mpl.rcParams['axes.spines.right'] = False\n",
    "mpl.rcParams['axes.spines.top'] = False\n",
    "mpl.rcParams['axes.spines.bottom'] = True\n",
    "mpl.rcParams['axes.spines.left'] = True\n",
    "# plt.rcParams['figure.figsize'] = [10, 10]\n",
    "\n",
    "@gif.frame\n",
    "def plot(i):\n",
    "    plt.xlim(0,6)\n",
    "    plt.ylim(0,7)\n",
    "    if i==0:\n",
    "        plt.ylabel('-')\n",
    "        plt.xlabel('-')\n",
    "        plt.title(\"1. Draw x and y line\", fontdict={'fontsize':25, 'color':'blue'})\n",
    "    if i==1:\n",
    "        plt.ylabel('Y axis --->')\n",
    "        plt.xlabel('X axis --->')\n",
    "        plt.title(\"2. Indicate X and Y axis\", fontdict={'fontsize':25, 'color':'green'})\n",
    "    if i==2:\n",
    "        plt.ylabel('Y axis --->')\n",
    "        plt.xlabel('X axis --->')\n",
    "        plt.title(\"3. Mark the Points\", fontdict={'fontsize':25, 'color':'#2aaaa2'})\n",
    "        plt.plot([0,1,4,3.2,5,6],'ro')\n",
    "    if i==3:\n",
    "        plt.ylabel('Y axis --->')\n",
    "        plt.xlabel('X axis --->')\n",
    "        plt.title(\"4. Connect the points\", fontdict={'fontsize':25, 'color':'lime'})\n",
    "        plt.plot([0,1,4,3.2,5,6],'ro-')\n",
    "    if i==4:\n",
    "        plt.ylabel('Y axis --->')\n",
    "        plt.xlabel('X axis --->')\n",
    "        plt.title(\"5. Add legends\", fontdict={'fontsize':25, 'color':'pink'})\n",
    "        plt.plot([0,1,4,3.2,5,6],'ro-', label=\"legend\")\n",
    "        plt.legend(loc=\"upper left\")\n",
    "    if i==5:\n",
    "        plt.ylabel('Y axis --->')\n",
    "        plt.xlabel('X axis --->')\n",
    "        plt.title(\"Line Plot using Matplotlib\", fontdict={'fontsize':26, 'color':'#2a2a2a'})\n",
    "        plt.plot([0,1,4,3.2,5,6],'ro-', label=\"legend\")\n",
    "        plt.legend(loc=\"upper left\")\n",
    "    if i==6:\n",
    "        plt.ylabel('Y axis --->')\n",
    "        plt.xlabel('X axis --->')\n",
    "        plt.title(\"Line Plot using Matplotlib\", fontdict={'fontsize':26, 'color':'#2a2a2a'})\n",
    "        plt.plot([0,1,4,3.2,5,6],'ro-', label=\"legend\")\n",
    "        plt.legend(loc=\"upper left\")\n",
    "\n",
    "    plt.text(5, 0.7, \"Skill Disk\", size=18, rotation=0.,\n",
    "         ha=\"center\", va=\"center\",\n",
    "         bbox=dict(boxstyle=\"round\",\n",
    "                   ec=(1., 170/255, 0., 0.26),\n",
    "                   fc=(1., 170/255, 0., 0.26),\n",
    "                   ),\n",
    "                   color=\"#ffaa00\"\n",
    "         )\n",
    "\n",
    "    plt.text(0, -0.7, \"www.skilldisk.com\", size=9, rotation=0.,\n",
    "         ha=\"center\", va=\"center\",\n",
    "         bbox=dict(boxstyle=\"round\",\n",
    "                   ec=(0.164, 0.164, 0.164, 1),\n",
    "                   fc=(0.164, 0.164, 0.164, 1),\n",
    "                   ),\n",
    "                   color=\"white\"\n",
    "         )\n",
    "\n",
    "    \n",
    "    \n",
    "frames = []\n",
    "for i in range(7):\n",
    "    frame = plot(i)\n",
    "    frames.append(frame)\n",
    "    \n",
    "\n",
    "gif.save(frames, 'example.gif', duration=1000)"
   ]
  },
  {
   "cell_type": "markdown",
   "id": "b4b52127",
   "metadata": {
    "slideshow": {
     "slide_type": "subslide"
    }
   },
   "source": [
    "![gif](example.gif)"
   ]
  }
 ],
 "metadata": {
  "celltoolbar": "Slideshow",
  "kernelspec": {
   "display_name": "Python 3 (ipykernel)",
   "language": "python",
   "name": "python3"
  },
  "language_info": {
   "codemirror_mode": {
    "name": "ipython",
    "version": 3
   },
   "file_extension": ".py",
   "mimetype": "text/x-python",
   "name": "python",
   "nbconvert_exporter": "python",
   "pygments_lexer": "ipython3",
   "version": "3.13.1"
  },
  "rise": {
   "autolaunch": true,
   "enable_chalkboard": true,
   "footer": "<h3>Visualize Data using Python's Matplotlib</h3>",
   "header": "<h1>Skill Disk</h1>",
   "scroll": true,
   "theme": "night"
  }
 },
 "nbformat": 4,
 "nbformat_minor": 5
}
